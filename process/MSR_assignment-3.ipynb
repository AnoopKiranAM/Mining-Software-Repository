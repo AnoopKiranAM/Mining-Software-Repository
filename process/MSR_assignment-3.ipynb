{
 "cells": [
  {
   "cell_type": "code",
   "execution_count": 1,
   "metadata": {},
   "outputs": [],
   "source": [
    "# importing necessary libraries\n",
    "import requests \n",
    "import urllib.request\n",
    "from bs4 import BeautifulSoup \n",
    "import csv \n",
    "import pandas as pd \n",
    "import re\n",
    "import time\n",
    "from datetime import datetime\n",
    "\n",
    "\n",
    "# creating a data frame from the csv file\n",
    "df = pd.read_csv(\"../data/data.csv\") \n",
    "# display(\"All the 356 PR Links:\")\n",
    "# display(df['Pull Request'])"
   ]
  },
  {
   "cell_type": "code",
   "execution_count": 2,
   "metadata": {},
   "outputs": [],
   "source": [
    "# Filtering only the PR of Apache Company Repository\n",
    "apacheDataSet = df[df['Repo'].str.contains('/apache')]"
   ]
  },
  {
   "cell_type": "code",
   "execution_count": 3,
   "metadata": {},
   "outputs": [],
   "source": [
    "# Filtering only the PR of Mozilla Company Repository\n",
    "mozillaDataSet = df[df['Repo'].str.contains('/mozilla')]"
   ]
  },
  {
   "cell_type": "code",
   "execution_count": 4,
   "metadata": {},
   "outputs": [],
   "source": [
    "# Filtering only the PR of Google Company Repository\n",
    "googleDataSet = df[df['Repo'].str.contains('/google')]"
   ]
  },
  {
   "cell_type": "code",
   "execution_count": 5,
   "metadata": {},
   "outputs": [],
   "source": [
    "# Filtering only the PR of Facebook Company Repository\n",
    "facebookDataSet = df[df['Repo'].str.contains('/facebook')]\n",
    "# display(googleDataSet)\n",
    "# display(googleDataSet.count())"
   ]
  },
  {
   "cell_type": "code",
   "execution_count": 6,
   "metadata": {},
   "outputs": [],
   "source": [
    "# Using only Apache PR's\n",
    "pullRequestList=googleDataSet['Pull Request'].values.tolist()"
   ]
  },
  {
   "cell_type": "code",
   "execution_count": 7,
   "metadata": {},
   "outputs": [
    {
     "name": "stdout",
     "output_type": "stream",
     "text": [
      "Length of PR's of Apache:\n",
      "36\n"
     ]
    }
   ],
   "source": [
    "print(\"Length of PR's of Apache:\")\n",
    "print(len(pullRequestList))"
   ]
  },
  {
   "cell_type": "code",
   "execution_count": 8,
   "metadata": {},
   "outputs": [
    {
     "name": "stdout",
     "output_type": "stream",
     "text": [
      "252              https://github.com/google/grr/pull/138\n",
      "253              https://github.com/google/tie/pull/649\n",
      "254        https://github.com/google/ggrc-core/pull/931\n",
      "255             https://github.com/google/truth/pull/81\n",
      "256       https://github.com/google/ggrc-core/pull/6966\n",
      "257            https://github.com/google/caja/pull/2026\n",
      "258          https://github.com/google/blockly/pull/771\n",
      "259    https://github.com/google/ctfscoreboard/pull/161\n",
      "260       https://github.com/google/ggrc-core/pull/6771\n",
      "261     https://github.com/google/error-prone/pull/1159\n",
      "262       https://github.com/google/ggrc-core/pull/8278\n",
      "263               https://github.com/google/grr/pull/18\n",
      "264       https://github.com/google/ggrc-core/pull/8199\n",
      "265       https://github.com/google/bamboo-soy/pull/158\n",
      "266       https://github.com/google/ExoPlayer/pull/3185\n",
      "267              https://github.com/google/tie/pull/378\n",
      "268        https://github.com/google/ExoPlayer/pull/307\n",
      "269         https://github.com/google/ggrc-core/pull/47\n",
      "270              https://github.com/google/tie/pull/387\n",
      "271          https://github.com/google/nsscache/pull/80\n",
      "272       https://github.com/google/ggrc-core/pull/1337\n",
      "273       https://github.com/google/ExoPlayer/pull/2547\n",
      "274         https://github.com/google/blockly/pull/1050\n",
      "275         https://github.com/google/blockly/pull/1433\n",
      "276        https://github.com/google/ggrc-core/pull/587\n",
      "277           https://github.com/google/citest/pull/275\n",
      "278    https://github.com/google/ctfscoreboard/pull/160\n",
      "279              https://github.com/google/grr/pull/131\n",
      "280          https://github.com/google/openhtf/pull/347\n",
      "281     https://github.com/google/graphicsfuzz/pull/167\n",
      "282      https://github.com/google/python-fire/pull/141\n",
      "283          https://github.com/google/openhtf/pull/594\n",
      "284              https://github.com/google/grr/pull/169\n",
      "285            https://github.com/google/crmint/pull/61\n",
      "286        https://github.com/google/ggrc-core/pull/537\n",
      "287          https://github.com/google/blockly/pull/700\n",
      "Name: Pull Request, dtype: object\n"
     ]
    }
   ],
   "source": [
    "print(googleDataSet['Pull Request'])"
   ]
  },
  {
   "cell_type": "code",
   "execution_count": 9,
   "metadata": {},
   "outputs": [],
   "source": [
    "# pullRequestList.extend(apacheDataSet['Pull Request'].values.tolist())"
   ]
  },
  {
   "cell_type": "code",
   "execution_count": 10,
   "metadata": {},
   "outputs": [
    {
     "name": "stdout",
     "output_type": "stream",
     "text": [
      "Length of PR's of Apache:\n",
      "36\n"
     ]
    }
   ],
   "source": [
    "print(\"Length of PR's of Apache:\")\n",
    "print(len(pullRequestList))"
   ]
  },
  {
   "cell_type": "code",
   "execution_count": 11,
   "metadata": {},
   "outputs": [],
   "source": [
    "dictw = {'title':[], \n",
    "        'comment':[]\n",
    "         \n",
    "       } \n",
    "resultDF = pd.DataFrame(dictw) "
   ]
  },
  {
   "cell_type": "code",
   "execution_count": 12,
   "metadata": {},
   "outputs": [
    {
     "name": "stdout",
     "output_type": "stream",
     "text": [
      "2019-02-01 00:00:00\n"
     ]
    }
   ],
   "source": [
    "date_time_str = '01/02/19'\n",
    "\n",
    "date_time_obj = datetime.strptime(date_time_str, '%d/%m/%y')\n",
    "print(date_time_obj)\n"
   ]
  },
  {
   "cell_type": "code",
   "execution_count": 13,
   "metadata": {},
   "outputs": [
    {
     "name": "stdout",
     "output_type": "stream",
     "text": [
      "\n",
      "\n",
      "\n",
      "\n",
      "\n",
      "\n",
      "\n",
      "\n",
      "\n"
     ]
    }
   ],
   "source": [
    "newUrls=[]\n",
    "for i in range(len(pullRequestList)):\n",
    "    URL = pullRequestList[i]\n",
    "    try:\n",
    "        source = urllib.request.urlopen(URL)\n",
    "    except urllib.error.HTTPError as exception:\n",
    "        print()\n",
    "    soup = BeautifulSoup(source, 'html.parser')\n",
    "    \n",
    "    dateObtained = soup.find('div', attrs={'class': 'flex-auto min-width-0 mb-2'})\n",
    "    if dateObtained:\n",
    "        d=dateObtained.find('relative-time').get_text()\n",
    "        newD = d.split()\n",
    "        nn=newD[1].replace(',', '')\n",
    "        if newD[0]=='Jan':\n",
    "            mon='01'\n",
    "        if newD[0]=='Feb':\n",
    "            mon='02'\n",
    "        if newD[0]=='Mar':\n",
    "            mon='03'\n",
    "        if newD[0]=='Apr':\n",
    "            mon='04'\n",
    "        if newD[0]=='May':\n",
    "            mon='05'\n",
    "        if newD[0]=='Jun':\n",
    "            mon='06'\n",
    "        if newD[0]=='Jul':\n",
    "            mon='07'\n",
    "        if newD[0]=='Aug':\n",
    "            mon='08'\n",
    "        if newD[0]=='Sep':\n",
    "            mon='09'\n",
    "        if newD[0]=='Oct':\n",
    "            mon='10'\n",
    "        if newD[0]=='Nov':\n",
    "            mon='11'\n",
    "        if newD[0]=='Dec':\n",
    "            mon='12'\n",
    "        ye=newD[2][2]\n",
    "        last=newD[2][3]\n",
    "        year=ye+last\n",
    "        finalDate= nn+\"/\"+mon+\"/\"+year\n",
    "        newdate = datetime.strptime(finalDate, '%d/%m/%y')\n",
    "        if date_time_obj < newdate:\n",
    "            newUrls.append(URL)"
   ]
  },
  {
   "cell_type": "code",
   "execution_count": 14,
   "metadata": {},
   "outputs": [
    {
     "name": "stdout",
     "output_type": "stream",
     "text": [
      "https://github.com/google/ggrc-core/pull/931- Doesnt Exist (HHTP 404 Error)\n",
      "https://github.com/google/ggrc-core/pull/6966- Doesnt Exist (HHTP 404 Error)\n",
      "https://github.com/google/ggrc-core/pull/6771- Doesnt Exist (HHTP 404 Error)\n",
      "https://github.com/google/ggrc-core/pull/8278- Doesnt Exist (HHTP 404 Error)\n",
      "https://github.com/google/ggrc-core/pull/8199- Doesnt Exist (HHTP 404 Error)\n",
      "https://github.com/google/ggrc-core/pull/47- Doesnt Exist (HHTP 404 Error)\n",
      "https://github.com/google/ggrc-core/pull/1337- Doesnt Exist (HHTP 404 Error)\n",
      "https://github.com/google/ggrc-core/pull/587- Doesnt Exist (HHTP 404 Error)\n",
      "https://github.com/google/ggrc-core/pull/537- Doesnt Exist (HHTP 404 Error)\n"
     ]
    }
   ],
   "source": [
    "commitsList=[]\n",
    "commitHistory=[]\n",
    "filesChangedList = []\n",
    "green = []\n",
    "red = []\n",
    "conversation=[]\n",
    "gr=[]\n",
    "rd=[]\n",
    "\n",
    "\n",
    "headers = {\n",
    "    'Access-Control-Allow-Origin': '*',\n",
    "    'Access-Control-Allow-Methods': 'GET',\n",
    "    'Access-Control-Allow-Headers': 'Content-Type',\n",
    "    'Access-Control-Max-Age': '3600',\n",
    "    'User-Agent': 'Mozilla/5.0 (X11; Ubuntu; Linux x86_64; rv:52.0) Gecko/20100101 Firefox/52.0'\n",
    "    }\n",
    "\n",
    "for i in range(len(pullRequestList)):\n",
    "    URL = pullRequestList[i]\n",
    "    try:\n",
    "        source = urllib.request.urlopen(URL)\n",
    "    except urllib.error.HTTPError as exception:\n",
    "        print(URL+\"- Doesnt Exist (HHTP 404 Error)\")\n",
    "    soup = BeautifulSoup(source, 'html.parser')\n",
    "    \n",
    "    mainTitle = soup.find('h1', attrs = {'class':'gh-header-title mb-2 lh-condensed f1 mr-0 flex-auto break-word'})\n",
    "    comment = soup.find('div',attrs={'class':'edit-comment-hide'})\n",
    "    \n",
    "    heading=\"\"\n",
    "    if mainTitle:\n",
    "        for row in mainTitle.findAll('span', attrs = {'class':'js-issue-title'}):\n",
    "            heading=row.get_text()\n",
    "            for roww in comment.findAll('td', attrs = {'class':'d-block comment-body markdown-body js-comment-body'}):\n",
    "                finalComment=roww.get_text()+'.'\n",
    "            resultDF.loc[len(resultDF.index)] = [heading, finalComment]\n",
    "    else:\n",
    "        resultDF.loc[len(resultDF.index)] = [heading, \"\"]\n",
    "    \n",
    "    raw = soup.find('nav', attrs = {'class':'tabnav-tabs d-flex overflow-auto'})\n",
    "    \n",
    "    if raw:\n",
    "        for span in raw.findAll('span', attrs = {'class':'Counter js-updateable-pull-request-commits-count'}):\n",
    "            commitsList.append(span.get_text())\n",
    "    else:\n",
    "        commitsList.append(0)\n",
    "    \n",
    "    \n",
    "    if raw and raw.findAll('span', attrs = {'id':'files_tab_counter'}):\n",
    "        for span in raw.findAll('span', attrs = {'id':'files_tab_counter'}):\n",
    "            filesChangedList.append(span.get_text())\n",
    "    else:\n",
    "        filesChangedList.append(0)      \n",
    "   \n",
    "    code_churn_data = soup.find('div', attrs = {'class':'tabnav-extra float-right d-none d-md-block'})\n",
    "    \n",
    "#     gr.append(soup.find('span', attrs = {'class':'color-text-success'}))\n",
    "#     rd.append(soup.find('span', attrs = {'class':'color-text-danger'}))\n",
    "    \n",
    "    if code_churn_data and raw:\n",
    "        for i in code_churn_data.find_all('span', attrs = {'class':'color-text-success'}):\n",
    "            green.append(re.sub(r'\\D', '', i.get_text()))\n",
    "        for j in code_churn_data.find_all('span', attrs = {'class':'color-text-danger'}):\n",
    "            red.append(re.sub(r'\\D', '', j.get_text()))\n",
    "    else:\n",
    "        green.append(0)\n",
    "        red.append(0)\n",
    "    \n",
    "   \n",
    "  \n",
    "    "
   ]
  },
  {
   "cell_type": "code",
   "execution_count": 15,
   "metadata": {},
   "outputs": [
    {
     "name": "stdout",
     "output_type": "stream",
     "text": [
      "36\n"
     ]
    }
   ],
   "source": [
    "print(len(list(map(int, commitsList))))\n",
    "resultDF['num_commits']  = list(map(int, commitsList)) \n",
    "resultDF['files_changed']  = list(map(int, filesChangedList))"
   ]
  },
  {
   "cell_type": "code",
   "execution_count": 16,
   "metadata": {},
   "outputs": [],
   "source": [
    "greenlist = list(map(int, green)) \n",
    "redlist = list(map(int, red)) "
   ]
  },
  {
   "cell_type": "code",
   "execution_count": 18,
   "metadata": {},
   "outputs": [],
   "source": [
    "res_list = [] \n",
    "for i in range(0, len(green)): \n",
    "    res_list.append(greenlist[i] + redlist[i]) "
   ]
  },
  {
   "cell_type": "code",
   "execution_count": 20,
   "metadata": {},
   "outputs": [],
   "source": [
    "resultDF['code_churn'] = res_list"
   ]
  },
  {
   "cell_type": "code",
   "execution_count": 21,
   "metadata": {},
   "outputs": [
    {
     "data": {
      "text/html": [
       "<div>\n",
       "<style scoped>\n",
       "    .dataframe tbody tr th:only-of-type {\n",
       "        vertical-align: middle;\n",
       "    }\n",
       "\n",
       "    .dataframe tbody tr th {\n",
       "        vertical-align: top;\n",
       "    }\n",
       "\n",
       "    .dataframe thead th {\n",
       "        text-align: right;\n",
       "    }\n",
       "</style>\n",
       "<table border=\"1\" class=\"dataframe\">\n",
       "  <thead>\n",
       "    <tr style=\"text-align: right;\">\n",
       "      <th></th>\n",
       "      <th>title</th>\n",
       "      <th>comment</th>\n",
       "      <th>num_commits</th>\n",
       "      <th>files_changed</th>\n",
       "      <th>code_churn</th>\n",
       "    </tr>\n",
       "  </thead>\n",
       "  <tbody>\n",
       "    <tr>\n",
       "      <th>0</th>\n",
       "      <td>\\n        Removed unnecessary regex escaping\\n...</td>\n",
       "      <td>\\nThis may not be the best way to solve this, ...</td>\n",
       "      <td>1</td>\n",
       "      <td>1</td>\n",
       "      <td>0</td>\n",
       "    </tr>\n",
       "    <tr>\n",
       "      <th>1</th>\n",
       "      <td>\\n        Allowed regex to be tolerant of the ...</td>\n",
       "      <td>\\n\\nNo description provided.\\n\\n.</td>\n",
       "      <td>6</td>\n",
       "      <td>2</td>\n",
       "      <td>14</td>\n",
       "    </tr>\n",
       "    <tr>\n",
       "      <th>2</th>\n",
       "      <td></td>\n",
       "      <td></td>\n",
       "      <td>0</td>\n",
       "      <td>0</td>\n",
       "      <td>0</td>\n",
       "    </tr>\n",
       "    <tr>\n",
       "      <th>3</th>\n",
       "      <td>\\n        Add regex matching to StringSubject ...</td>\n",
       "      <td>\\n\\nNo description provided.\\n\\n.</td>\n",
       "      <td>1</td>\n",
       "      <td>3</td>\n",
       "      <td>174</td>\n",
       "    </tr>\n",
       "    <tr>\n",
       "      <th>4</th>\n",
       "      <td></td>\n",
       "      <td></td>\n",
       "      <td>0</td>\n",
       "      <td>0</td>\n",
       "      <td>0</td>\n",
       "    </tr>\n",
       "    <tr>\n",
       "      <th>5</th>\n",
       "      <td>\\n        Fix capitalization in the safeEntity...</td>\n",
       "      <td>\\n\\nNo description provided.\\n\\n.</td>\n",
       "      <td>1</td>\n",
       "      <td>0</td>\n",
       "      <td>0</td>\n",
       "    </tr>\n",
       "    <tr>\n",
       "      <th>6</th>\n",
       "      <td>\\n        Split the scrollbar and flyout out i...</td>\n",
       "      <td>\\nare siblings of the workpsace SVG.  This pav...</td>\n",
       "      <td>3</td>\n",
       "      <td>8</td>\n",
       "      <td>277</td>\n",
       "    </tr>\n",
       "    <tr>\n",
       "      <th>7</th>\n",
       "      <td>\\n        Add a case-insensitive regex check.\\...</td>\n",
       "      <td>\\n\\nNo description provided.\\n\\n.</td>\n",
       "      <td>1</td>\n",
       "      <td>3</td>\n",
       "      <td>33</td>\n",
       "    </tr>\n",
       "    <tr>\n",
       "      <th>8</th>\n",
       "      <td></td>\n",
       "      <td></td>\n",
       "      <td>0</td>\n",
       "      <td>0</td>\n",
       "      <td>0</td>\n",
       "    </tr>\n",
       "    <tr>\n",
       "      <th>9</th>\n",
       "      <td>\\n        Moe Sync\\n</td>\n",
       "      <td>\\nThis code has been reviewed and submitted in...</td>\n",
       "      <td>69</td>\n",
       "      <td>235</td>\n",
       "      <td>8356</td>\n",
       "    </tr>\n",
       "    <tr>\n",
       "      <th>10</th>\n",
       "      <td></td>\n",
       "      <td></td>\n",
       "      <td>0</td>\n",
       "      <td>0</td>\n",
       "      <td>0</td>\n",
       "    </tr>\n",
       "    <tr>\n",
       "      <th>11</th>\n",
       "      <td>\\n        MySQL does not support ? in regex\\n ...</td>\n",
       "      <td>\\n\\nNo description provided.\\n\\n.</td>\n",
       "      <td>1</td>\n",
       "      <td>0</td>\n",
       "      <td>0</td>\n",
       "    </tr>\n",
       "    <tr>\n",
       "      <th>12</th>\n",
       "      <td></td>\n",
       "      <td></td>\n",
       "      <td>0</td>\n",
       "      <td>0</td>\n",
       "      <td>0</td>\n",
       "    </tr>\n",
       "    <tr>\n",
       "      <th>13</th>\n",
       "      <td>\\n        Non-greedy regex for matching HTML c...</td>\n",
       "      <td>\\nFixes #151\\n.</td>\n",
       "      <td>1</td>\n",
       "      <td>2</td>\n",
       "      <td>0</td>\n",
       "    </tr>\n",
       "    <tr>\n",
       "      <th>14</th>\n",
       "      <td>\\n        Fix possible subrip timing line NPE\\...</td>\n",
       "      <td>\\nFixes a possible NPE when reading the subrip...</td>\n",
       "      <td>1</td>\n",
       "      <td>0</td>\n",
       "      <td>0</td>\n",
       "    </tr>\n",
       "    <tr>\n",
       "      <th>15</th>\n",
       "      <td>\\n        Fix AttributeError Regex Bug\\n</td>\n",
       "      <td>\\n\\nAdjusted AttributeError regex for when err...</td>\n",
       "      <td>2</td>\n",
       "      <td>1</td>\n",
       "      <td>0</td>\n",
       "    </tr>\n",
       "    <tr>\n",
       "      <th>16</th>\n",
       "      <td>\\n        Issue with regular expression for CO...</td>\n",
       "      <td>\\nPrevious regular expression for extracting c...</td>\n",
       "      <td>1</td>\n",
       "      <td>0</td>\n",
       "      <td>0</td>\n",
       "    </tr>\n",
       "    <tr>\n",
       "      <th>17</th>\n",
       "      <td></td>\n",
       "      <td></td>\n",
       "      <td>0</td>\n",
       "      <td>0</td>\n",
       "      <td>0</td>\n",
       "    </tr>\n",
       "    <tr>\n",
       "      <th>18</th>\n",
       "      <td>\\n        Fix Java Comment RegEx Bug\\n</td>\n",
       "      <td>\\n\\nFixed bug where the ZeroDivisionError woul...</td>\n",
       "      <td>2</td>\n",
       "      <td>1</td>\n",
       "      <td>0</td>\n",
       "    </tr>\n",
       "    <tr>\n",
       "      <th>19</th>\n",
       "      <td>\\n        Add support for suffix after mount p...</td>\n",
       "      <td>\\nThis adds the ability to modify the suffix a...</td>\n",
       "      <td>6</td>\n",
       "      <td>0</td>\n",
       "      <td>0</td>\n",
       "    </tr>\n",
       "    <tr>\n",
       "      <th>20</th>\n",
       "      <td></td>\n",
       "      <td></td>\n",
       "      <td>0</td>\n",
       "      <td>0</td>\n",
       "      <td>0</td>\n",
       "    </tr>\n",
       "    <tr>\n",
       "      <th>21</th>\n",
       "      <td>\\n        Support comma separators in ISO-8601...</td>\n",
       "      <td>\\nPresently the regex for parsing ISO-8601 for...</td>\n",
       "      <td>1</td>\n",
       "      <td>0</td>\n",
       "      <td>0</td>\n",
       "    </tr>\n",
       "    <tr>\n",
       "      <th>22</th>\n",
       "      <td>\\n        Update RegEx in js-to-json to match ...</td>\n",
       "      <td>\\nThe current regex only works with the \\n lin...</td>\n",
       "      <td>1</td>\n",
       "      <td>0</td>\n",
       "      <td>0</td>\n",
       "    </tr>\n",
       "    <tr>\n",
       "      <th>23</th>\n",
       "      <td>\\n        No-regex-spaces\\n</td>\n",
       "      <td>\\nThe basics\\n\\n I branched from develop\\n My ...</td>\n",
       "      <td>1</td>\n",
       "      <td>0</td>\n",
       "      <td>0</td>\n",
       "    </tr>\n",
       "    <tr>\n",
       "      <th>24</th>\n",
       "      <td></td>\n",
       "      <td></td>\n",
       "      <td>0</td>\n",
       "      <td>0</td>\n",
       "      <td>0</td>\n",
       "    </tr>\n",
       "    <tr>\n",
       "      <th>25</th>\n",
       "      <td>\\n        feat(predicate): Added STR_REGEX\\n  ...</td>\n",
       "      <td>\\n@jtk54\\n.</td>\n",
       "      <td>1</td>\n",
       "      <td>0</td>\n",
       "      <td>0</td>\n",
       "    </tr>\n",
       "    <tr>\n",
       "      <th>26</th>\n",
       "      <td>\\n        Regex validator.\\n</td>\n",
       "      <td>\\nFixes #159.\\n.</td>\n",
       "      <td>4</td>\n",
       "      <td>0</td>\n",
       "      <td>0</td>\n",
       "    </tr>\n",
       "    <tr>\n",
       "      <th>27</th>\n",
       "      <td>\\n        Removed unecessary forced regex\\n</td>\n",
       "      <td>\\nThis forced modification of the regex causes...</td>\n",
       "      <td>1</td>\n",
       "      <td>0</td>\n",
       "      <td>0</td>\n",
       "    </tr>\n",
       "    <tr>\n",
       "      <th>28</th>\n",
       "      <td>\\n        Edit pylintrc file\\n</td>\n",
       "      <td>\\nUpdate the regex in some of the fields, make...</td>\n",
       "      <td>1</td>\n",
       "      <td>0</td>\n",
       "      <td>0</td>\n",
       "    </tr>\n",
       "    <tr>\n",
       "      <th>29</th>\n",
       "      <td>\\n        Replace the reduction error regex by...</td>\n",
       "      <td>\\n\\nNo description provided.\\n\\n.</td>\n",
       "      <td>1</td>\n",
       "      <td>0</td>\n",
       "      <td>0</td>\n",
       "    </tr>\n",
       "    <tr>\n",
       "      <th>30</th>\n",
       "      <td>\\n        Issue #108: Shortcuts for boolean ar...</td>\n",
       "      <td>\\nIn response to this issue.  This adds a feat...</td>\n",
       "      <td>10</td>\n",
       "      <td>0</td>\n",
       "      <td>0</td>\n",
       "    </tr>\n",
       "    <tr>\n",
       "      <th>31</th>\n",
       "      <td>\\n        Fix string equality validator and ad...</td>\n",
       "      <td>\\nPreviously for the equality validator, we'd ...</td>\n",
       "      <td>1</td>\n",
       "      <td>0</td>\n",
       "      <td>0</td>\n",
       "    </tr>\n",
       "    <tr>\n",
       "      <th>32</th>\n",
       "      <td>\\n        Enabled https regex for AdminUI\\n</td>\n",
       "      <td>\\nJust changed regex to allow entering an http...</td>\n",
       "      <td>1</td>\n",
       "      <td>0</td>\n",
       "      <td>0</td>\n",
       "    </tr>\n",
       "    <tr>\n",
       "      <th>33</th>\n",
       "      <td>\\n        Fix Cloud Project ID regex.\\n</td>\n",
       "      <td>\\nUpdate the Cloud Project ID regular expressi...</td>\n",
       "      <td>2</td>\n",
       "      <td>0</td>\n",
       "      <td>0</td>\n",
       "    </tr>\n",
       "    <tr>\n",
       "      <th>34</th>\n",
       "      <td></td>\n",
       "      <td></td>\n",
       "      <td>0</td>\n",
       "      <td>0</td>\n",
       "      <td>0</td>\n",
       "    </tr>\n",
       "    <tr>\n",
       "      <th>35</th>\n",
       "      <td>\\n        Fix #698 by adjusting the regex to n...</td>\n",
       "      <td>\\n…hy that was there.\\nAlso replaces bad names...</td>\n",
       "      <td>3</td>\n",
       "      <td>0</td>\n",
       "      <td>0</td>\n",
       "    </tr>\n",
       "  </tbody>\n",
       "</table>\n",
       "</div>"
      ],
      "text/plain": [
       "                                                title  \\\n",
       "0   \\n        Removed unnecessary regex escaping\\n...   \n",
       "1   \\n        Allowed regex to be tolerant of the ...   \n",
       "2                                                       \n",
       "3   \\n        Add regex matching to StringSubject ...   \n",
       "4                                                       \n",
       "5   \\n        Fix capitalization in the safeEntity...   \n",
       "6   \\n        Split the scrollbar and flyout out i...   \n",
       "7   \\n        Add a case-insensitive regex check.\\...   \n",
       "8                                                       \n",
       "9                          \\n        Moe Sync\\n         \n",
       "10                                                      \n",
       "11  \\n        MySQL does not support ? in regex\\n ...   \n",
       "12                                                      \n",
       "13  \\n        Non-greedy regex for matching HTML c...   \n",
       "14  \\n        Fix possible subrip timing line NPE\\...   \n",
       "15     \\n        Fix AttributeError Regex Bug\\n         \n",
       "16  \\n        Issue with regular expression for CO...   \n",
       "17                                                      \n",
       "18       \\n        Fix Java Comment RegEx Bug\\n         \n",
       "19  \\n        Add support for suffix after mount p...   \n",
       "20                                                      \n",
       "21  \\n        Support comma separators in ISO-8601...   \n",
       "22  \\n        Update RegEx in js-to-json to match ...   \n",
       "23                  \\n        No-regex-spaces\\n         \n",
       "24                                                      \n",
       "25  \\n        feat(predicate): Added STR_REGEX\\n  ...   \n",
       "26                 \\n        Regex validator.\\n         \n",
       "27  \\n        Removed unecessary forced regex\\n         \n",
       "28               \\n        Edit pylintrc file\\n         \n",
       "29  \\n        Replace the reduction error regex by...   \n",
       "30  \\n        Issue #108: Shortcuts for boolean ar...   \n",
       "31  \\n        Fix string equality validator and ad...   \n",
       "32  \\n        Enabled https regex for AdminUI\\n         \n",
       "33      \\n        Fix Cloud Project ID regex.\\n         \n",
       "34                                                      \n",
       "35  \\n        Fix #698 by adjusting the regex to n...   \n",
       "\n",
       "                                              comment  num_commits  \\\n",
       "0   \\nThis may not be the best way to solve this, ...            1   \n",
       "1                   \\n\\nNo description provided.\\n\\n.            6   \n",
       "2                                                                0   \n",
       "3                   \\n\\nNo description provided.\\n\\n.            1   \n",
       "4                                                                0   \n",
       "5                   \\n\\nNo description provided.\\n\\n.            1   \n",
       "6   \\nare siblings of the workpsace SVG.  This pav...            3   \n",
       "7                   \\n\\nNo description provided.\\n\\n.            1   \n",
       "8                                                                0   \n",
       "9   \\nThis code has been reviewed and submitted in...           69   \n",
       "10                                                               0   \n",
       "11                  \\n\\nNo description provided.\\n\\n.            1   \n",
       "12                                                               0   \n",
       "13                                    \\nFixes #151\\n.            1   \n",
       "14  \\nFixes a possible NPE when reading the subrip...            1   \n",
       "15  \\n\\nAdjusted AttributeError regex for when err...            2   \n",
       "16  \\nPrevious regular expression for extracting c...            1   \n",
       "17                                                               0   \n",
       "18  \\n\\nFixed bug where the ZeroDivisionError woul...            2   \n",
       "19  \\nThis adds the ability to modify the suffix a...            6   \n",
       "20                                                               0   \n",
       "21  \\nPresently the regex for parsing ISO-8601 for...            1   \n",
       "22  \\nThe current regex only works with the \\n lin...            1   \n",
       "23  \\nThe basics\\n\\n I branched from develop\\n My ...            1   \n",
       "24                                                               0   \n",
       "25                                        \\n@jtk54\\n.            1   \n",
       "26                                   \\nFixes #159.\\n.            4   \n",
       "27  \\nThis forced modification of the regex causes...            1   \n",
       "28  \\nUpdate the regex in some of the fields, make...            1   \n",
       "29                  \\n\\nNo description provided.\\n\\n.            1   \n",
       "30  \\nIn response to this issue.  This adds a feat...           10   \n",
       "31  \\nPreviously for the equality validator, we'd ...            1   \n",
       "32  \\nJust changed regex to allow entering an http...            1   \n",
       "33  \\nUpdate the Cloud Project ID regular expressi...            2   \n",
       "34                                                               0   \n",
       "35  \\n…hy that was there.\\nAlso replaces bad names...            3   \n",
       "\n",
       "    files_changed  code_churn  \n",
       "0               1           0  \n",
       "1               2          14  \n",
       "2               0           0  \n",
       "3               3         174  \n",
       "4               0           0  \n",
       "5               0           0  \n",
       "6               8         277  \n",
       "7               3          33  \n",
       "8               0           0  \n",
       "9             235        8356  \n",
       "10              0           0  \n",
       "11              0           0  \n",
       "12              0           0  \n",
       "13              2           0  \n",
       "14              0           0  \n",
       "15              1           0  \n",
       "16              0           0  \n",
       "17              0           0  \n",
       "18              1           0  \n",
       "19              0           0  \n",
       "20              0           0  \n",
       "21              0           0  \n",
       "22              0           0  \n",
       "23              0           0  \n",
       "24              0           0  \n",
       "25              0           0  \n",
       "26              0           0  \n",
       "27              0           0  \n",
       "28              0           0  \n",
       "29              0           0  \n",
       "30              0           0  \n",
       "31              0           0  \n",
       "32              0           0  \n",
       "33              0           0  \n",
       "34              0           0  \n",
       "35              0           0  "
      ]
     },
     "execution_count": 21,
     "metadata": {},
     "output_type": "execute_result"
    }
   ],
   "source": [
    "resultDF"
   ]
  },
  {
   "cell_type": "code",
   "execution_count": 22,
   "metadata": {},
   "outputs": [],
   "source": [
    "comment_list=resultDF['comment'].values.tolist()"
   ]
  },
  {
   "cell_type": "code",
   "execution_count": 23,
   "metadata": {},
   "outputs": [],
   "source": [
    "title_list=resultDF['title'].values.tolist()"
   ]
  },
  {
   "cell_type": "code",
   "execution_count": 24,
   "metadata": {},
   "outputs": [],
   "source": [
    "rootCause=[]\n",
    "# regExString=[\"regex\",\"regular expression\"]\n",
    "# apiURLString=[\"api\",\"url\"]\n",
    "for index in range(len(comment_list)):\n",
    "    if \"regex\" in comment_list[index] or \"regex\" in title_list[index]: \n",
    "        rootCause.append(\"regEx\")\n",
    "    elif \"regular expression\" in comment_list[index] or \"regex\" in title_list[index]:\n",
    "        rootCause.append(\"regEx\")\n",
    "    elif \"URL\" in comment_list[index] or \"regex\" in title_list[index]:\n",
    "        rootCause.append(\"API\")\n",
    "    elif \"API\" in comment_list[index] or \"regex\" in title_list[index]:\n",
    "        rootCause.append(\"API\")\n",
    "    else:\n",
    "        rootCause.append(\"Other\")"
   ]
  },
  {
   "cell_type": "code",
   "execution_count": 25,
   "metadata": {},
   "outputs": [],
   "source": [
    "resultDF['Root Cause'] = rootCause "
   ]
  },
  {
   "cell_type": "code",
   "execution_count": 27,
   "metadata": {},
   "outputs": [],
   "source": [
    "# Identifying Manifestation\n",
    "manifestation=[]\n",
    "newFeatureStringList=[\"add\",\"ADD\",\"url rewriting\",\"octothrope\", \"PARSING\",\"regex matching\",\"Add a case-insensitive regex\", \"getSymbolsByName\",\"suffix and prefix\",\"predicate\", \"FireError\",\"integration test \"]\n",
    "\n",
    "incorrectBehaviourStringList=[\"proper\",\"modified\",\"fixed\",\"fix\",\"change\",\"changing\",\"changes\",\"expanding regex\",\"expand\",\"automatically\", \"inbound finder\", \"synchronized\", \"Distinct\",\"CSSRewriter regex\", \"issue\", \"discord\", \"zero uncovered lines\", \"new regex\", \"ManifestStaticFilesStorage\", \"Improve catch-all regex\", \"Re-arrange\", \"Better regex matching\", \"redirect regex\", \"character issue\", \"Exclude Placeables\", \"copy/pasting\", \"tolerant\", \"expediency\", \"Non-greedy regex \", \"non-word characters\", \"extracting codec information\", \"Wrong Language Syntax\", \"edit\", \"equality validator\", \"Update\", \"linebreaks\", \"empty object\", \"flawed \", \"dangerfile ES module\",\"sanitization \",\"investigation \",\"trailing slash\",\"versioned subdirectories\",\"testNamePattern\",\"package coupling\",\"potential inconsistency\",\"Preserve\",\"pattern match\",\"incorrectly escaping\",\"testPathDirs\",\"Resolve\",\"Fix header link generation\"]\n",
    "\n",
    "compileErrorStringList=[\"detected\",\"reworked\",\"confusing\",\"not support\"]\n",
    "\n",
    "badsmellrStringList=[\"refactor\",\"update\",\"updating\",\"parse\",\"Replace\",\"better\", \"invert\", \"deprecation warnings\", \"github's edit\",\"correct escape for regex\", \"querySelectors\", \"warnings\", \"typo\", \"unused regex\", \"flake8 errors\", \"tests\", \"additional redirects\", \"Removed\", \"unnecessary\", \"corrupt\", \"invalid\", \"generator tests\",\"problems\", \"Edit\", \"reduction error\",\"more tests\",\"literal expression\"]\n",
    "\n",
    "incorrectComputationStringList=[\"assertion\",\"full path matching\",\"small backwards compatability\",\"weird semantics\"]\n",
    "\n",
    "\n",
    "for index in range(len(comment_list)):\n",
    "    if any(x in comment_list[index] for x in newFeatureStringList) or any(x in title_list[index] for x in newFeatureStringList):\n",
    "        manifestation.append(\"new feature\")\n",
    "    elif any(x in comment_list[index] for x in incorrectComputationStringList) or any(x in title_list[index] for x in incorrectComputationStringList):\n",
    "         manifestation.append(\"incorrect computation\")\n",
    "    elif any(x in comment_list[index] for x in badsmellrStringList) or any(x in title_list[index] for x in badsmellrStringList):\n",
    "         manifestation.append(\"bad smell\")\n",
    "    elif any(x in comment_list[index] for x in compileErrorStringList) or any(x in title_list[index] for x in compileErrorStringList):\n",
    "        manifestation.append(\"compile error\")\n",
    "    elif any(x in comment_list[index] for x in incorrectBehaviourStringList) or any(x in title_list[index] for x in incorrectBehaviourStringList):\n",
    "         manifestation.append(\"incorrect behavior\")\n",
    "    else:\n",
    "        manifestation.append(\"other failure\")"
   ]
  },
  {
   "cell_type": "code",
   "execution_count": 28,
   "metadata": {},
   "outputs": [],
   "source": [
    "resultDF['Manifestation'] = manifestation "
   ]
  },
  {
   "cell_type": "code",
   "execution_count": 30,
   "metadata": {},
   "outputs": [],
   "source": [
    "\n",
    "category=[]\n",
    "\n",
    "#T2\n",
    "acceptingInvalidStringList=[\"Bugfix for regex\",\"Fix integration test script\",\"SSP mail form\",\"Optimize inbound finder\",\n",
    "                            \"display_name regex\",\"regex for matching origins\",\"WhiteNoise serve\",\"catch-all regex\",\n",
    "                            \"regex matching for native JS\",\"fake FTL Message\",\"safeEntityNameRe regex\",\"Java Comment RegEx\",\n",
    "                            \"string equality validator\",\"module detection regex\",\"root pattern\",\n",
    "                            \"regex that really never matches\",\"refactor server routing\",\"bad routing regex\",\n",
    "                            \"Jest moduleNameMapper regex\",\"exclude node_modules\"]\n",
    "\n",
    "incorrectExtractionStringList=[\"StringExpander regex\",\"fix whitelist\",\"Fix greedy regex\",\"Non-greedy regex\",\n",
    "                               \"docblock comments\",\"regex match in `fv`\",\"filename without directory\"]\n",
    "\n",
    "dataProcessingStringList=[\"Add helper script\",\"Add sec\",\"Enabling extraction\",\"Add custom context\",\"in new usernames\",\n",
    "                          \"octothrope comments\",\"SVG elements\",\"Shortcuts for boolean arguments\",\"add init option\",\"support for CSS Modules\"]\n",
    "\n",
    "#designs smell\n",
    "badSmellStringList=[\"Refactor\",\"Rename\",\"Optimize\",\"Invert regex\",\"refactor regex\",\"Edit pylintrc file\",\n",
    "                    \"reduction error regex\",\"regular expression literals\",\"serializer smarter\"]\n",
    "\n",
    "regexConfigStringList=[\"configurable\",\"config\",\"simple url rewriting\",\"mount point for autofs\",\"testNamePattern CLI\",\n",
    "                       \"Better filter\"]\n",
    "\n",
    "regexLikeImplStringList=[\"REGEXP_EXTRACT\",\"Regex replacement\",\"regex filter\",\"regex matching\",\"Added STR_REGEX\",\n",
    "                         \"Regex validator\",\"results in typeahead\"]\n",
    "#T1\n",
    "rejectingValidStringList=[\"better regex\",\"RegEx pattern should be updated\",\"replaces the regex\",\"Import l10n files\",\n",
    "                          \"gauntlet regex\",\"ESR version suffix\",\"regex for validation\",\"Discord validation\",\n",
    "                          \"TOOLKIT_VERSION_REGEX\",\"regex in `nl2br`\",\"interactive-examples to iframes\",\n",
    "                          \"legacy redirect regex\",\"non alphanumeric slugs\",\"regex to be tolerant\",\"AttributeError Regex\",\n",
    "                          \"regular expression for CODEC\",\"comma separators in ISO-8601\",\"RegEx in js-to-json\",\n",
    "                          \"Enabled https regex\",\"linebreaks when scanning\",\"toThrowError fixes\",\"hyphens for Regex\",\n",
    "                          \"click-to-open on Windows\",\"handling regex symbols\",\"sanitization in jest-mock\",\n",
    "                          \"minus operator in compiler\",\"versioned subdirectories\",\"with interactive snapshots\",\"dangerfile\",\n",
    "                          \"jest-matcher-utils\",\"bug in regex\",\"cleanupStackTrace work\",\"pluses in filenames\",\n",
    "                          \"test.jsx? or spec.jsx?\",\"escaping of \\\"\\.\\\"\",\"tests on Node 8.7\",\"Express.js regex for docs\",\n",
    "                          \"interpolating into testMatch\",\"Objective-C Category\"]\n",
    "\n",
    "codeSmelldStringList=[\"regex pattern\",\"replace by regular\",\"Remove\",\"version matching regex\",\"Replace the \\'flags\\'\",\n",
    "                      \"Fix regex issues\",\"escape for regex\",\"entity\\'s using querySelectors\",\"CSS Lint Regex\",\n",
    "                      \"(re.LOCALE) flag for regexs\",\"typo in mozillians\",\"flake8 errors\",\"regex escaping\",\"subrip timing\",\n",
    "                      \"No-regex-spaces\",\"unecessary forced regex\",\"Refactor + add more\",\"requested through proxy\",\n",
    "                      \"Better filter UI\",\"tag end regex\",\"valid attribute regex\"]\n",
    "\n",
    "\n",
    "for index in range(len(comment_list)):\n",
    "    if any(x in comment_list[index] for x in acceptingInvalidStringList) or any(x in title_list[index] for x in acceptingInvalidStringList):\n",
    "        category.append(\"accepting invalid strings(T2)\")\n",
    "    elif any(x in comment_list[index] for x in incorrectExtractionStringList) or any(x in title_list[index] for x in incorrectExtractionStringList):\n",
    "        category.append(\"incorrect extraction\")\n",
    "    elif any(x in comment_list[index] for x in dataProcessingStringList) or any(x in title_list[index] for x in dataProcessingStringList):\n",
    "        category.append(\"data processing\")\n",
    "    elif any(x in comment_list[index] for x in badSmellStringList) or any(x in title_list[index] for x in badSmellStringList):\n",
    "        category.append(\"bad smells\")\n",
    "    elif any(x in comment_list[index] for x in regexConfigStringList) or any(x in title_list[index] for x in regexConfigStringList):\n",
    "        category.append(\"regex configuration entry\")\n",
    "    elif any(x in comment_list[index] for x in regexLikeImplStringList) or any(x in title_list[index] for x in regexLikeImplStringList):\n",
    "        category.append(\"regex like implementation\")\n",
    "    elif any(x in comment_list[index] for x in rejectingValidStringList) or any(x in title_list[index] for x in rejectingValidStringList):\n",
    "        category.append(\"rejecting valid strings (T1)\")\n",
    "    elif any(x in comment_list[index] for x in codeSmelldStringList) or any(x in title_list[index] for x in codeSmelldStringList):\n",
    "        category.append(\"code smells\")\n",
    "    else:\n",
    "        category.append(\" \")"
   ]
  },
  {
   "cell_type": "code",
   "execution_count": 31,
   "metadata": {},
   "outputs": [],
   "source": [
    "resultDF['Category'] = category "
   ]
  },
  {
   "cell_type": "code",
   "execution_count": 32,
   "metadata": {},
   "outputs": [],
   "source": [
    "#Storing the executed data in a result.csv file.\n",
    "resultDF.to_csv(r'../data/result.csv', sep=',', mode='a')"
   ]
  },
  {
   "cell_type": "code",
   "execution_count": 33,
   "metadata": {},
   "outputs": [
    {
     "name": "stdout",
     "output_type": "stream",
     "text": [
      "Statistics=4776.00, p=0.00\n",
      "No significant difference between two samples\n"
     ]
    }
   ],
   "source": [
    "# code for Mann-Whitney U test to test the number of commits in old and new data set \n",
    "from scipy.stats import mannwhitneyu \n",
    "batch_1 =resultDF['num_commits']\n",
    "batch_2 =df['num_commits']\n",
    "  \n",
    "# perform mann whitney test \n",
    "stat, p_value = mannwhitneyu(batch_1, batch_2) \n",
    "print('Statistics=%.2f, p=%.2f' % (stat, p_value)) \n",
    "# Level of significance \n",
    "alpha = 0.001\n",
    "# conclusion \n",
    "if p_value < alpha: \n",
    "    print('Significant difference between two samples') \n",
    "else: \n",
    "    print('No significant difference between two samples')"
   ]
  },
  {
   "cell_type": "code",
   "execution_count": 34,
   "metadata": {},
   "outputs": [
    {
     "name": "stdout",
     "output_type": "stream",
     "text": [
      "Statistics=1256.00, p=0.00\n",
      "Significant difference between two samples\n"
     ]
    }
   ],
   "source": [
    "# code for Mann-Whitney U test to test the lines of code in both original and obtained data set\n",
    "from scipy.stats import mannwhitneyu \n",
    "# Take batch 1 and batch 2 data as per above example \n",
    "batch_1 =resultDF['code_churn']\n",
    "batch_2 =df['code_churn']\n",
    "  \n",
    "# perform mann whitney test \n",
    "stat, p_value = mannwhitneyu(batch_1, batch_2) \n",
    "print('Statistics=%.2f, p=%.2f' % (stat, p_value)) \n",
    "# Level of significance \n",
    "alpha = 0.001\n",
    "# conclusion \n",
    "if p_value < alpha: \n",
    "    print('Significant difference between two samples') \n",
    "else: \n",
    "    print('No significant difference between two samples')"
   ]
  },
  {
   "cell_type": "code",
   "execution_count": 35,
   "metadata": {},
   "outputs": [
    {
     "name": "stdout",
     "output_type": "stream",
     "text": [
      "Statistics=1578.00, p=0.00\n",
      "Significant difference between two samples\n"
     ]
    }
   ],
   "source": [
    "# code for Mann-Whitney U test to test the files changed in both original and obtained data set\n",
    "from scipy.stats import mannwhitneyu \n",
    "# Take batch 1 and batch 2 data as per above example \n",
    "batch_1 =resultDF['files_changed']\n",
    "batch_2 =df['files_changed']\n",
    "  \n",
    "# perform mann whitney test \n",
    "stat, p_value = mannwhitneyu(batch_1, batch_2) \n",
    "print('Statistics=%.2f, p=%.2f' % (stat, p_value)) \n",
    "# Level of significance \n",
    "alpha = 0.001\n",
    "# conclusion \n",
    "if p_value < alpha: \n",
    "    print('Significant difference between two samples') \n",
    "else: \n",
    "    print('No significant difference between two samples')"
   ]
  },
  {
   "cell_type": "code",
   "execution_count": 36,
   "metadata": {},
   "outputs": [],
   "source": [
    "import matplotlib.pyplot as plt\n",
    "\n",
    "def generate_distribution_histogram(dataframe, \n",
    "                                    column_name, \n",
    "                                    title, x_axis_label, y_axis_label,\n",
    "                                    label_name,\n",
    "                                    number_bins = 15):\n",
    "    plt.hist(dataframe[column_name], bins = number_bins, label = label_name)\n",
    "    plt.title(title)\n",
    "    plt.xlabel(x_axis_label)\n",
    "    plt.ylabel(y_axis_label)\n",
    "    plt.legend(loc='upper right')\n",
    "\n"
   ]
  },
  {
   "cell_type": "code",
   "execution_count": 37,
   "metadata": {},
   "outputs": [
    {
     "data": {
      "image/png": "[encoded data removed]",
      "text/plain": [
       "<Figure size 432x288 with 1 Axes>"
      ]
     },
     "metadata": {
      "needs_background": "light"
     },
     "output_type": "display_data"
    }
   ],
   "source": [
    "df_result =resultDF\n",
    "df_original =df\n",
    "generate_distribution_histogram(df_result, \n",
    "                                'num_commits',\n",
    "                                title = 'Number of commits in executed(calculated) data set',\n",
    "                                x_axis_label = 'Number of Commits',\n",
    "                                y_axis_label = 'Frequency',\n",
    "                                label_name = 'num of commits in executed data set')\n"
   ]
  },
  {
   "cell_type": "code",
   "execution_count": 38,
   "metadata": {},
   "outputs": [
    {
     "data": {
      "image/png": "[encoded data removed]",
      "text/plain": [
       "<Figure size 432x288 with 1 Axes>"
      ]
     },
     "metadata": {
      "needs_background": "light"
     },
     "output_type": "display_data"
    }
   ],
   "source": [
    "generate_distribution_histogram(df_original, \n",
    "                                'num_commits',\n",
    "                                title = 'Number of commits in original data set',\n",
    "                                x_axis_label = 'Number of Commits',\n",
    "                                y_axis_label = 'Frequency',\n",
    "                                label_name = 'num of commits in original data set')"
   ]
  },
  {
   "cell_type": "code",
   "execution_count": 39,
   "metadata": {},
   "outputs": [
    {
     "data": {
      "image/png": "[encoded data removed]",
      "text/plain": [
       "<Figure size 432x288 with 1 Axes>"
      ]
     },
     "metadata": {
      "needs_background": "light"
     },
     "output_type": "display_data"
    }
   ],
   "source": [
    "generate_distribution_histogram(df_result, \n",
    "                                'code_churn',\n",
    "                                title = 'Lines of code changed in executed data set',\n",
    "                                x_axis_label = 'Lines of code modified',\n",
    "                                y_axis_label = 'Frequency',\n",
    "                                label_name = 'Lines of code modified in executed data set')"
   ]
  },
  {
   "cell_type": "code",
   "execution_count": 40,
   "metadata": {},
   "outputs": [
    {
     "data": {
      "image/png": "[encoded data removed]",
      "text/plain": [
       "<Figure size 432x288 with 1 Axes>"
      ]
     },
     "metadata": {
      "needs_background": "light"
     },
     "output_type": "display_data"
    }
   ],
   "source": [
    "generate_distribution_histogram(df_original, \n",
    "                                'code_churn',\n",
    "                                title = 'Lines of code modified in original data set',\n",
    "                                x_axis_label = 'Lines of code modified',\n",
    "                                y_axis_label = 'Frequency',\n",
    "                                label_name = 'Lines of code modified in original data set')"
   ]
  },
  {
   "cell_type": "code",
   "execution_count": null,
   "metadata": {},
   "outputs": [],
   "source": []
  },
  {
   "cell_type": "code",
   "execution_count": null,
   "metadata": {},
   "outputs": [],
   "source": []
  }
 ],
 "metadata": {
  "kernelspec": {
   "display_name": "Python 3",
   "language": "python",
   "name": "python3"
  },
  "language_info": {
   "codemirror_mode": {
    "name": "ipython",
    "version": 3
   },
   "file_extension": ".py",
   "mimetype": "text/x-python",
   "name": "python",
   "nbconvert_exporter": "python",
   "pygments_lexer": "ipython3",
   "version": "3.7.6"
  }
 },
 "nbformat": 4,
 "nbformat_minor": 4
}
